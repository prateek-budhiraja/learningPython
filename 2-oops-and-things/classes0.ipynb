{
 "cells": [
  {
   "cell_type": "markdown",
   "id": "dirty-economics",
   "metadata": {},
   "source": [
    "## Classes"
   ]
  },
  {
   "cell_type": "markdown",
   "id": "communist-consultation",
   "metadata": {},
   "source": [
    "class(keyword) Classname:  \n",
    "    -data members  \n",
    "    -member functions  \n",
    "      \n",
    "every member function should accept atleast one parameter(__self__)."
   ]
  },
  {
   "cell_type": "code",
   "execution_count": null,
   "id": "champion-sarah",
   "metadata": {},
   "outputs": [],
   "source": [
    "class Class0:\n",
    "    def afun(self):         #to accept the calling object\n",
    "        print('in class function')"
   ]
  },
  {
   "cell_type": "code",
   "execution_count": null,
   "id": "detected-healing",
   "metadata": {},
   "outputs": [],
   "source": [
    "cobj=Class0()               #refvar=classname()"
   ]
  },
  {
   "cell_type": "code",
   "execution_count": null,
   "id": "animated-employee",
   "metadata": {},
   "outputs": [],
   "source": [
    "cobj.afun()                 #internal call afun(obj)"
   ]
  },
  {
   "cell_type": "code",
   "execution_count": null,
   "id": "figured-patio",
   "metadata": {},
   "outputs": [],
   "source": [
    "class Employee:\n",
    "    def setsalary(self, x):\n",
    "        self.salary=x"
   ]
  },
  {
   "cell_type": "code",
   "execution_count": null,
   "id": "martial-decimal",
   "metadata": {},
   "outputs": [],
   "source": [
    "eobj=Employee()\n",
    "eobj.setsalary(100000)\n",
    "eobj.salary"
   ]
  },
  {
   "cell_type": "markdown",
   "id": "residential-romania",
   "metadata": {},
   "source": [
    "### Concept of Class variable and Instance variable"
   ]
  },
  {
   "cell_type": "code",
   "execution_count": null,
   "id": "trying-austria",
   "metadata": {},
   "outputs": [],
   "source": [
    "class Employee:\n",
    "    companyname='Google'     #class var, same for all obj until change\n",
    "    def setname(self, name):\n",
    "        self.name=name       #instance variable diff for all obj\n",
    "    def setsal(self, sal):\n",
    "        self.sal=sal"
   ]
  },
  {
   "cell_type": "code",
   "execution_count": null,
   "id": "unauthorized-design",
   "metadata": {},
   "outputs": [],
   "source": [
    "emp1=Employee()\n",
    "emp2=Employee()"
   ]
  },
  {
   "cell_type": "code",
   "execution_count": null,
   "id": "communist-rates",
   "metadata": {},
   "outputs": [],
   "source": [
    "emp1.setname('Prateek')\n",
    "emp1.setsal(100000)"
   ]
  },
  {
   "cell_type": "code",
   "execution_count": null,
   "id": "exact-admission",
   "metadata": {},
   "outputs": [],
   "source": [
    "#now emp1 has 2 instance variable and 1 class variable\n",
    "#we can get value of all 3 variables through emp1\n",
    "\n",
    "#but as we haven't set the 'name' and 'sal' for  emp2\n",
    "#we can only access 'companyname' with 'emp2'"
   ]
  },
  {
   "cell_type": "code",
   "execution_count": null,
   "id": "adolescent-following",
   "metadata": {},
   "outputs": [],
   "source": [
    "emp2.interests=['dev ops', 'ai', 'big data']"
   ]
  },
  {
   "cell_type": "code",
   "execution_count": null,
   "id": "settled-logan",
   "metadata": {},
   "outputs": [],
   "source": [
    "#now we have created 1 instance variable for 'emp2' which is not \n",
    "#available with 'emp1'"
   ]
  },
  {
   "cell_type": "code",
   "execution_count": null,
   "id": "voluntary-illustration",
   "metadata": {},
   "outputs": [],
   "source": [
    "print(f'emp1: [{emp1.name}: {emp1.sal}: {emp1.companyname}]')\n",
    "#cannot access emp1.interests"
   ]
  },
  {
   "cell_type": "code",
   "execution_count": null,
   "id": "boolean-lightning",
   "metadata": {},
   "outputs": [],
   "source": [
    "print(f'emp1: [{emp2.interests}: {emp1.companyname}]')"
   ]
  },
  {
   "cell_type": "markdown",
   "id": "soviet-perspective",
   "metadata": {},
   "source": [
    "### More insights\n",
    "\n",
    "Till the object doesn't change the values of class variable, and if we ask for the values of the class variable, it will provide what is given to the variable(at class level),\n",
    "  \n",
    "But when we change the value of class variable with an object, it will create a copy of that variable at object level and change the value there(no impact on other objects, as changing in it's local scope), and now if we try to get the value, it will first look at the object level and provide the changed value. "
   ]
  },
  {
   "cell_type": "markdown",
   "id": "periodic-palace",
   "metadata": {},
   "source": [
    "## Special class methods"
   ]
  },
  {
   "cell_type": "markdown",
   "id": "first-mounting",
   "metadata": {},
   "source": [
    "### __init__()"
   ]
  },
  {
   "cell_type": "markdown",
   "id": "delayed-tobago",
   "metadata": {},
   "source": [
    "def \\__init__(self, arguments):  \n",
    "&emsp;statements\n",
    "   \n",
    "* perform innitialization.\n",
    "* ideally data members should be introduced in this method.\n",
    "* this method is implicitly invoked when an instance of the class is constructed"
   ]
  },
  {
   "cell_type": "markdown",
   "id": "signed-burns",
   "metadata": {},
   "source": [
    "### __del__()"
   ]
  },
  {
   "cell_type": "markdown",
   "id": "tutorial-large",
   "metadata": {},
   "source": [
    "* any cleanup operation is defined here\n",
    "* this method is invoked when reference count of any instance becomes zero\n",
    "* no arguments except 'self'"
   ]
  },
  {
   "cell_type": "markdown",
   "id": "hispanic-campbell",
   "metadata": {},
   "source": [
    "### Example"
   ]
  },
  {
   "cell_type": "code",
   "execution_count": null,
   "id": "classified-vault",
   "metadata": {},
   "outputs": [],
   "source": [
    "class dummy:\n",
    "    def __init__(self):\n",
    "        print('in init')\n",
    "    def __del__(self):\n",
    "        print('in del')\n",
    "\n",
    "def afun():\n",
    "    print('in afun')\n",
    "    obj=dummy()\n",
    "\n",
    "print('in main')\n",
    "obj=dummy()\n",
    "print('*'*10)\n",
    "afun()\n",
    "print('*'*10)\n",
    "# del obj"
   ]
  }
 ],
 "metadata": {
  "kernelspec": {
   "display_name": "Python 3",
   "language": "python",
   "name": "python3"
  },
  "language_info": {
   "codemirror_mode": {
    "name": "ipython",
    "version": 3
   },
   "file_extension": ".py",
   "mimetype": "text/x-python",
   "name": "python",
   "nbconvert_exporter": "python",
   "pygments_lexer": "ipython3",
   "version": "3.8.5"
  }
 },
 "nbformat": 4,
 "nbformat_minor": 5
}
