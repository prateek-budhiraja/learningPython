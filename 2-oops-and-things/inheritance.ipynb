{
 "cells": [
  {
   "cell_type": "markdown",
   "id": "found-terrain",
   "metadata": {},
   "source": [
    "# Inheritance"
   ]
  },
  {
   "cell_type": "markdown",
   "id": "necessary-welcome",
   "metadata": {},
   "source": [
    "Class Relationships:  \n",
    "a. Is-a    \n",
    "one class can be derived from another class  \n",
    "\n",
    "    parent\n",
    "       ^\n",
    "       |\n",
    "     child\n",
    "\n",
    "\n",
    "b. has-a   \n",
    "represent containment\n",
    "\n",
    "   |  Book   |\n",
    "   |---------| \n",
    "   | chapter |\n",
    "   | Index   |\n",
    " "
   ]
  },
  {
   "cell_type": "code",
   "execution_count": 2,
   "id": "balanced-macedonia",
   "metadata": {},
   "outputs": [],
   "source": [
    "class Base:\n",
    "    pass\n",
    "class Derived(Base):\n",
    "    pass"
   ]
  },
  {
   "cell_type": "markdown",
   "id": "disciplinary-communication",
   "metadata": {},
   "source": [
    "here write code for inheritance from java notebook"
   ]
  },
  {
   "cell_type": "code",
   "execution_count": null,
   "id": "lasting-recipe",
   "metadata": {},
   "outputs": [],
   "source": [
    "then here write about method order resolution"
   ]
  }
 ],
 "metadata": {
  "kernelspec": {
   "display_name": "Python 3",
   "language": "python",
   "name": "python3"
  },
  "language_info": {
   "codemirror_mode": {
    "name": "ipython",
    "version": 3
   },
   "file_extension": ".py",
   "mimetype": "text/x-python",
   "name": "python",
   "nbconvert_exporter": "python",
   "pygments_lexer": "ipython3",
   "version": "3.8.5"
  }
 },
 "nbformat": 4,
 "nbformat_minor": 5
}
