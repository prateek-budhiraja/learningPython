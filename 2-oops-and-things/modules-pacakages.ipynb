{
 "cells": [
  {
   "cell_type": "markdown",
   "id": "selective-courtesy",
   "metadata": {},
   "source": [
    "## Modules"
   ]
  },
  {
   "cell_type": "markdown",
   "id": "confidential-baptist",
   "metadata": {},
   "source": [
    "* Modules can extend the usability of the code.\n",
    "* Group a set of functions having similar goal/functionality\n",
    "* As modules are converted to byte, hence they use to secure the source code of the program\n",
    "* They contains functions/data members(no standalone execution statement)"
   ]
  },
  {
   "cell_type": "markdown",
   "id": "respected-emphasis",
   "metadata": {},
   "source": [
    "Types:  \n",
    "a. built in modules(import statement)  \n",
    "b. user defined modules(make yourself and use)  "
   ]
  },
  {
   "cell_type": "markdown",
   "id": "expressed-parallel",
   "metadata": {},
   "source": [
    "### Importing"
   ]
  },
  {
   "cell_type": "markdown",
   "id": "acting-america",
   "metadata": {},
   "source": [
    "__importing single module__   \n",
    ">_import os_               \n",
    "\n",
    "__importing multiple module__  \n",
    ">_import math, os, sys_       \n",
    "\n",
    "__importing certain things from a module__,  \n",
    "it dumps the imported functionality to current namespace, work as a localize fucntion(can use without math.sqrt)  \n",
    ">_from math import sqrt_\n",
    "\n",
    "__aliasing (to solve name ambiguity)__  \n",
    ">_import math as hismath_"
   ]
  },
  {
   "cell_type": "markdown",
   "id": "exciting-politics",
   "metadata": {},
   "source": [
    "### User defined module"
   ]
  },
  {
   "cell_type": "markdown",
   "id": "french-personal",
   "metadata": {},
   "source": [
    "a. create file and save it with .py extension  \n",
    "b. add functions (and data members(at bottom))  \n",
    "c. add another file and import your module  \n",
    "d. use the functions of your module, and at the time of of execution, it compiles the module file as well and creates .pyc file  "
   ]
  },
  {
   "cell_type": "markdown",
   "id": "actual-birth",
   "metadata": {},
   "source": [
    "## Packages"
   ]
  },
  {
   "cell_type": "markdown",
   "id": "organized-grain",
   "metadata": {},
   "source": [
    "Group set of similar modules, provides security to the modules  \n",
    "Centeral repository of python packages is PyPi  \n",
    "(http, urllib, email, xml, unittest)  \n",
    "\n",
    ">pip install numpy  \n",
    "pip list  \n",
    "pip uninstall numpy  "
   ]
  },
  {
   "cell_type": "markdown",
   "id": "gross-pontiac",
   "metadata": {},
   "source": [
    "### User defined package"
   ]
  },
  {
   "cell_type": "markdown",
   "id": "silver-niger",
   "metadata": {},
   "source": [
    "a. make a folder  \n",
    "b. add module files  \n",
    "c. create \\__init__.py file and add to that folder, write import   statements for importing modules  \n",
    "d. make a file to use the functionality of package  \n",
    "import package.module.functionality  \n",
    "e. execute and it will automatically compile all the module files.  "
   ]
  }
 ],
 "metadata": {
  "kernelspec": {
   "display_name": "Python 3",
   "language": "python",
   "name": "python3"
  },
  "language_info": {
   "codemirror_mode": {
    "name": "ipython",
    "version": 3
   },
   "file_extension": ".py",
   "mimetype": "text/x-python",
   "name": "python",
   "nbconvert_exporter": "python",
   "pygments_lexer": "ipython3",
   "version": "3.8.5"
  }
 },
 "nbformat": 4,
 "nbformat_minor": 5
}
