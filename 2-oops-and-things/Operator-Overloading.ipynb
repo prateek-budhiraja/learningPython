{
 "cells": [
  {
   "cell_type": "markdown",
   "id": "waiting-austria",
   "metadata": {},
   "source": [
    "# Operator Overloading"
   ]
  },
  {
   "cell_type": "markdown",
   "id": "electric-declaration",
   "metadata": {},
   "source": [
    "Python doesn't support overloading\n",
    "But to overload an operator, implement a corresponding method"
   ]
  },
  {
   "cell_type": "markdown",
   "id": "incoming-intermediate",
   "metadata": {},
   "source": [
    "__add__()        __mul__()          __le__()\n",
    "__iadd__()       __imul__()         __eq__()\n",
    "__sub__()        __lt__()           __ne__()\n",
    "__isub__()       __gt__()           __ge__()"
   ]
  },
  {
   "cell_type": "code",
   "execution_count": 2,
   "id": "purple-marble",
   "metadata": {},
   "outputs": [],
   "source": [
    "class num:\n",
    "    def __init__(self, data):\n",
    "        self.data=data\n",
    "    def __add__(self, obj):\n",
    "        return self.data+obj.data"
   ]
  },
  {
   "cell_type": "code",
   "execution_count": 4,
   "id": "average-powder",
   "metadata": {},
   "outputs": [
    {
     "name": "stdout",
     "output_type": "stream",
     "text": [
      "3\n"
     ]
    }
   ],
   "source": [
    "one=num(1)\n",
    "two=num(2)\n",
    "res=one+two\n",
    "print(res)"
   ]
  },
  {
   "cell_type": "code",
   "execution_count": null,
   "id": "delayed-barrel",
   "metadata": {},
   "outputs": [],
   "source": [
    "make more program from java operator overloading\n",
    "\n",
    "__repr__()"
   ]
  }
 ],
 "metadata": {
  "kernelspec": {
   "display_name": "Python 3",
   "language": "python",
   "name": "python3"
  },
  "language_info": {
   "codemirror_mode": {
    "name": "ipython",
    "version": 3
   },
   "file_extension": ".py",
   "mimetype": "text/x-python",
   "name": "python",
   "nbconvert_exporter": "python",
   "pygments_lexer": "ipython3",
   "version": "3.8.5"
  }
 },
 "nbformat": 4,
 "nbformat_minor": 5
}
