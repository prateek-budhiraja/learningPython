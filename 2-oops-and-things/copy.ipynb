{
 "cells": [
  {
   "cell_type": "markdown",
   "id": "frequent-wrapping",
   "metadata": {},
   "source": [
    "## Copy processes"
   ]
  },
  {
   "cell_type": "markdown",
   "id": "danish-bicycle",
   "metadata": {},
   "source": [
    "### Reference Copy"
   ]
  },
  {
   "cell_type": "markdown",
   "id": "formal-hydrogen",
   "metadata": {},
   "source": [
    "As name says, it is just copying the reference. \n",
    "Example:\n",
    "a=[1,2,3,4]\n",
    "b=[5,6,7,8]\n",
    "c=[a,b]\n",
    "d=c     {making alias}\n",
    "therefore, id(c)==id(d)"
   ]
  },
  {
   "cell_type": "markdown",
   "id": "endless-hungary",
   "metadata": {},
   "source": [
    "### Shalow Copy"
   ]
  },
  {
   "cell_type": "markdown",
   "id": "strategic-retention",
   "metadata": {},
   "source": [
    "Constructs a new compound object and then(to the extent possible) inserts the reference into the object found in the original.\n",
    "Just copies the references to the new objects."
   ]
  },
  {
   "cell_type": "code",
   "execution_count": null,
   "id": "italian-walker",
   "metadata": {},
   "outputs": [],
   "source": [
    "import copy"
   ]
  },
  {
   "cell_type": "code",
   "execution_count": null,
   "id": "medical-martin",
   "metadata": {},
   "outputs": [],
   "source": [
    "a=[1,2,3,4]\n",
    "b=[5,6,7,8]\n",
    "compound=[a,b]"
   ]
  },
  {
   "cell_type": "code",
   "execution_count": null,
   "id": "aging-seattle",
   "metadata": {},
   "outputs": [],
   "source": [
    "shallow=copy.copy(compound)"
   ]
  },
  {
   "cell_type": "code",
   "execution_count": null,
   "id": "thirty-instruction",
   "metadata": {},
   "outputs": [],
   "source": [
    "print(id(compound)==id(shallow)) \n",
    "#different id as different both points to different objects"
   ]
  },
  {
   "cell_type": "code",
   "execution_count": null,
   "id": "northern-remedy",
   "metadata": {},
   "outputs": [],
   "source": [
    "print(f'{compound}\\n{shallow}')\n",
    "#prints same list as references are same as id(c[0])==id(e[0]) and so on.."
   ]
  },
  {
   "cell_type": "code",
   "execution_count": null,
   "id": "digital-niagara",
   "metadata": {},
   "outputs": [],
   "source": [
    "shallow[0][0]=99 \n",
    "print(f'{compound}\\n{shallow}')\n",
    "print(id(compound[0])==id(shallow[0]))\n",
    "#this will change the value in compound as well\n",
    "#as 'shallow' is having the same reference which 'compound' is having"
   ]
  },
  {
   "cell_type": "markdown",
   "id": "literary-origin",
   "metadata": {},
   "source": [
    "## Deep Copy"
   ]
  },
  {
   "cell_type": "markdown",
   "id": "insured-helmet",
   "metadata": {},
   "source": [
    "A deep copy constructs a new compound object and then, recursively, inserts copies into it of the objects found in the original."
   ]
  },
  {
   "cell_type": "code",
   "execution_count": null,
   "id": "legal-helen",
   "metadata": {},
   "outputs": [],
   "source": [
    "import copy"
   ]
  },
  {
   "cell_type": "code",
   "execution_count": null,
   "id": "seasonal-clinton",
   "metadata": {},
   "outputs": [],
   "source": [
    "a=[1,2,3,4]\n",
    "b=[5,6,7,8]\n",
    "compound=[a,b]"
   ]
  },
  {
   "cell_type": "code",
   "execution_count": null,
   "id": "documented-positive",
   "metadata": {},
   "outputs": [],
   "source": [
    "deep=copy.deepcopy(compound) "
   ]
  },
  {
   "cell_type": "code",
   "execution_count": null,
   "id": "chinese-demand",
   "metadata": {},
   "outputs": [],
   "source": [
    "print(id(deep)==id(c))"
   ]
  },
  {
   "cell_type": "code",
   "execution_count": null,
   "id": "modern-federation",
   "metadata": {},
   "outputs": [],
   "source": [
    "print(f'{compound}\\n{deep}')"
   ]
  },
  {
   "cell_type": "code",
   "execution_count": null,
   "id": "atmospheric-personality",
   "metadata": {},
   "outputs": [],
   "source": [
    "deep[0][0]=99 \n",
    "print(f'{compound}\\n{deep}')\n",
    "print(id(compound[0])==id(deep[0]))\n",
    "#won't change anything in compound as it created it's copy of all the \n",
    "#references as well"
   ]
  }
 ],
 "metadata": {
  "kernelspec": {
   "display_name": "Python 3",
   "language": "python",
   "name": "python3"
  },
  "language_info": {
   "codemirror_mode": {
    "name": "ipython",
    "version": 3
   },
   "file_extension": ".py",
   "mimetype": "text/x-python",
   "name": "python",
   "nbconvert_exporter": "python",
   "pygments_lexer": "ipython3",
   "version": "3.8.5"
  }
 },
 "nbformat": 4,
 "nbformat_minor": 5
}
