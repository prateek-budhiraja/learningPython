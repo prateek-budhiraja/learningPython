{
 "cells": [
  {
   "cell_type": "markdown",
   "id": "crazy-grant",
   "metadata": {},
   "source": [
    "# Encrypting "
   ]
  },
  {
   "cell_type": "code",
   "execution_count": null,
   "id": "hollow-appearance",
   "metadata": {},
   "outputs": [],
   "source": [
    "#pip install cryptography\n",
    "from cryptography.fernet import Fernet"
   ]
  },
  {
   "cell_type": "code",
   "execution_count": null,
   "id": "healthy-persian",
   "metadata": {},
   "outputs": [],
   "source": [
    "#importing our data into program\n",
    "with open('password.txt', 'r') as source:\n",
    "    source_text=source.read()"
   ]
  },
  {
   "cell_type": "code",
   "execution_count": null,
   "id": "genuine-shopping",
   "metadata": {},
   "outputs": [],
   "source": [
    "#generating and saving keys\n",
    "key=Fernet.generate_key()\n",
    "with open('key.txt', 'w') as k:\n",
    "    k.write(key.decode())"
   ]
  },
  {
   "cell_type": "code",
   "execution_count": null,
   "id": "plain-industry",
   "metadata": {},
   "outputs": [],
   "source": [
    "#making an Fernet object with the generated key\n",
    "symmetric_function=Fernet(key)"
   ]
  },
  {
   "cell_type": "code",
   "execution_count": null,
   "id": "suffering-scale",
   "metadata": {},
   "outputs": [],
   "source": [
    "#encrypting text and storing it as bytes\n",
    "encrypted_text=symmetric_function.encrypt(source_text.encode())"
   ]
  },
  {
   "cell_type": "code",
   "execution_count": null,
   "id": "tamil-fourth",
   "metadata": {},
   "outputs": [],
   "source": [
    "#saving the encrypted text in a new file\n",
    "with open('enc-password.txt', 'w') as dest:\n",
    "    dest.write(encrypted_text.decode())  #as encrypted_text is in form of bytes\n",
    "                                         #we convert it in form of string     "
   ]
  }
 ],
 "metadata": {
  "kernelspec": {
   "display_name": "Python 3",
   "language": "python",
   "name": "python3"
  },
  "language_info": {
   "codemirror_mode": {
    "name": "ipython",
    "version": 3
   },
   "file_extension": ".py",
   "mimetype": "text/x-python",
   "name": "python",
   "nbconvert_exporter": "python",
   "pygments_lexer": "ipython3",
   "version": "3.8.5"
  }
 },
 "nbformat": 4,
 "nbformat_minor": 5
}
