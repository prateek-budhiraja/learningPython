{
 "cells": [
  {
   "cell_type": "markdown",
   "id": "enhanced-oliver",
   "metadata": {},
   "source": [
    "# Decrypting"
   ]
  },
  {
   "cell_type": "code",
   "execution_count": null,
   "id": "polyphonic-deadline",
   "metadata": {},
   "outputs": [],
   "source": [
    "from cryptography.fernet import Fernet"
   ]
  },
  {
   "cell_type": "code",
   "execution_count": null,
   "id": "reverse-greek",
   "metadata": {},
   "outputs": [],
   "source": [
    "#reading the encrypted password file\n",
    "with open('enc-password.txt', 'r') as source:\n",
    "    encrypted_text=source.read()"
   ]
  },
  {
   "cell_type": "code",
   "execution_count": null,
   "id": "pending-spanking",
   "metadata": {},
   "outputs": [],
   "source": [
    "#getting key\n",
    "with open('key.txt', 'r') as k:\n",
    "    key=k.read()"
   ]
  },
  {
   "cell_type": "code",
   "execution_count": null,
   "id": "static-impact",
   "metadata": {},
   "outputs": [],
   "source": [
    "#making Fernet object with the same key\n",
    "symmetric_function=Fernet(key)"
   ]
  },
  {
   "cell_type": "code",
   "execution_count": null,
   "id": "official-float",
   "metadata": {},
   "outputs": [],
   "source": [
    "#decoding the message\n",
    "symmetric_function.decrypt(encrypted_text.encode()).decode()"
   ]
  }
 ],
 "metadata": {
  "kernelspec": {
   "display_name": "Python 3",
   "language": "python",
   "name": "python3"
  },
  "language_info": {
   "codemirror_mode": {
    "name": "ipython",
    "version": 3
   },
   "file_extension": ".py",
   "mimetype": "text/x-python",
   "name": "python",
   "nbconvert_exporter": "python",
   "pygments_lexer": "ipython3",
   "version": "3.8.5"
  }
 },
 "nbformat": 4,
 "nbformat_minor": 5
}
