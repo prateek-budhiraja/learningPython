{
 "cells": [
  {
   "cell_type": "markdown",
   "id": "alternative-fantasy",
   "metadata": {},
   "source": [
    "# Exception Handling"
   ]
  },
  {
   "cell_type": "markdown",
   "id": "labeled-stuff",
   "metadata": {},
   "source": [
    "Errors are the events, which are triggered during the execution of the program, which is unexpected and abnormal to run. \n",
    "* We are not solving the problem but dealing with the problem."
   ]
  },
  {
   "cell_type": "code",
   "execution_count": null,
   "id": "increasing-davis",
   "metadata": {},
   "outputs": [],
   "source": [
    "#try except finally else"
   ]
  },
  {
   "cell_type": "markdown",
   "id": "small-province",
   "metadata": {},
   "source": [
    "* When error occurs\n",
    "\n",
    "a. it halts the program.\n",
    "b. if error is not anticipated and no error handling code is written,\n",
    "   then the it will transfer the control from the program to the       \n",
    "   python's own error handler to take care of the further execution.\n",
    "c. it may rollback or cancel the associate process till the error \n",
    "   encounter which was successfully executed.\n",
    "d. program ends adruptly with non zero exit code."
   ]
  },
  {
   "cell_type": "markdown",
   "id": "affected-buyer",
   "metadata": {},
   "source": [
    "* Built in exceptions are stored in __builtins__"
   ]
  },
  {
   "cell_type": "code",
   "execution_count": 7,
   "id": "apparent-phenomenon",
   "metadata": {},
   "outputs": [
    {
     "name": "stdout",
     "output_type": "stream",
     "text": [
      "Enter first number: 10\n",
      "Enter second number: 0\n",
      "Numbers can not be devided with zero\n",
      "Error captured: division by zero\n"
     ]
    }
   ],
   "source": [
    "try:\n",
    "    x=int(input('Enter first number: '))\n",
    "    y=int(input('Enter second number: '))\n",
    "    z=x/y\n",
    "    print(z)\n",
    "except ZeroDivisionError as e:\n",
    "    print('Numbers can not be devided with zero')\n",
    "    print(f'Error captured: {e}')\n",
    "except ValueError as e:\n",
    "    print('Please enter numbers only')\n",
    "    print(f'Error captured: {e}')"
   ]
  },
  {
   "cell_type": "markdown",
   "id": "modern-frank",
   "metadata": {},
   "source": [
    "*finally* \n",
    "Finally block executes any how, whether there any error thrown in program or the program ran smoothly.\n",
    "Include statements that are neccessary to be executed no matter what the status of the program termination is.\n",
    "\n",
    "*else*\n",
    "Executes only if there was no error thrown\n",
    "Include those statement which is to be executed if no error occurs.\n",
    "example: execution of another script or backup script execution"
   ]
  }
 ],
 "metadata": {
  "kernelspec": {
   "display_name": "Python 3",
   "language": "python",
   "name": "python3"
  },
  "language_info": {
   "codemirror_mode": {
    "name": "ipython",
    "version": 3
   },
   "file_extension": ".py",
   "mimetype": "text/x-python",
   "name": "python",
   "nbconvert_exporter": "python",
   "pygments_lexer": "ipython3",
   "version": "3.8.5"
  }
 },
 "nbformat": 4,
 "nbformat_minor": 5
}
