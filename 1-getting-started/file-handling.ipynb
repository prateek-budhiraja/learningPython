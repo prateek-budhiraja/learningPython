{
 "cells": [
  {
   "cell_type": "markdown",
   "id": "outstanding-mongolia",
   "metadata": {},
   "source": [
    "# File Handling"
   ]
  },
  {
   "cell_type": "markdown",
   "id": "regulated-chess",
   "metadata": {},
   "source": [
    "Storing data permanently  \n",
    "\n",
    "__IO Connections__  \n",
    "a. standard input(read)  \n",
    "b. standard output(write)  \n",
    "c. standard error  "
   ]
  },
  {
   "cell_type": "markdown",
   "id": "swedish-organ",
   "metadata": {},
   "source": [
    "__General flow:__  \n",
    "a. open  \n",
    "b. operate (read, write, append)  \n",
    "c. close  "
   ]
  },
  {
   "cell_type": "markdown",
   "id": "norman-pencil",
   "metadata": {},
   "source": [
    "## Syntax for File Handling"
   ]
  },
  {
   "cell_type": "markdown",
   "id": "adverse-termination",
   "metadata": {},
   "source": [
    "__Opening a File__  \n",
    "\n",
    "file=open('full path for the file', 'mode')\n",
    "_returns file handler assosiated with the file_  \n",
    "mode: r(read), w(write), a(append), [t(text mode), b(binary mode)]\n",
    "  \n",
    "----------------------------------------------------------------------\n",
    "  \n",
    "__Closing a file__\n",
    "\n",
    "file.close()    \n",
    "_flush data into file and close file handle permanentaly._   \n",
    "_You should always close your files, in some cases, due to buffering, changes made to a file may not show until you close the file._  \n",
    "  \n",
    "----------------------------------------------------------------------\n",
    "  \n",
    "__Reading from a file__  \n",
    "  \n",
    "file.read()      -> read whole file  \n",
    "file.read(n)     -> read n no. of bytes from file, and shift cursor  \n",
    "file.readLine()  -> read current line  \n",
    "file.readLines() -> read all the lines and return a list of lines  \n",
    "  \n",
    "----------------------------------------------------------------------\n",
    "  \n",
    "__Writing in a file__\n",
    "  \n",
    "file.write('your data')  \n",
    "  \n",
    "----------------------------------------------------------------------\n",
    "__Properties in file handler__  \n",
    "  \n",
    "file.name  \n",
    "file.closed  \n",
    "file.mode  \n",
    "  \n",
    "----------------------------------------------------------------------\n",
    "  \n",
    "__Extra functions__  \n",
    "  \n",
    "file.tell()     -> display the position of the pointer/cursor  \n",
    "  \n",
    "file.seek(offset(how much), reference(from where))       \n",
    "-> adjust cursor position  "
   ]
  }
 ],
 "metadata": {
  "kernelspec": {
   "display_name": "Python 3",
   "language": "python",
   "name": "python3"
  },
  "language_info": {
   "codemirror_mode": {
    "name": "ipython",
    "version": 3
   },
   "file_extension": ".py",
   "mimetype": "text/x-python",
   "name": "python",
   "nbconvert_exporter": "python",
   "pygments_lexer": "ipython3",
   "version": "3.8.5"
  }
 },
 "nbformat": 4,
 "nbformat_minor": 5
}
