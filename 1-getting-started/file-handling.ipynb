{
 "cells": [
  {
   "cell_type": "markdown",
   "id": "outstanding-mongolia",
   "metadata": {},
   "source": [
    "# File Handling"
   ]
  },
  {
   "cell_type": "markdown",
   "id": "regulated-chess",
   "metadata": {},
   "source": [
    "Storing data permanently\n",
    "\n",
    "-*-IO Connections-*-\n",
    "a. standard input(read)\n",
    "b. standard output(write)\n",
    "c. standard error"
   ]
  },
  {
   "cell_type": "markdown",
   "id": "swedish-organ",
   "metadata": {},
   "source": [
    "General flow:\n",
    "a. open\n",
    "b. operate (read, write, append)\n",
    "c. close"
   ]
  },
  {
   "cell_type": "markdown",
   "id": "norman-pencil",
   "metadata": {},
   "source": [
    "## Syntax for File Handling"
   ]
  },
  {
   "cell_type": "markdown",
   "id": "adverse-termination",
   "metadata": {},
   "source": [
    "_Opening a File\n",
    "\n",
    "file=open('full path for the file', 'mode')\n",
    "* returns file handler assosiated with the file\n",
    "mode: r(read), w(write), a(append), [t(text mode), b(binary mode)]\n",
    "\n",
    "----------------------------------------------------------------------\n",
    "\n",
    "_Closing a file\n",
    "\n",
    "file.close()\n",
    "* flush data into file and close file handle permanentaly.\n",
    "* You should always close your files, in some cases, due to buffering, changes made to a file may not show until you close the file.\n",
    "\n",
    "----------------------------------------------------------------------\n",
    "\n",
    "_Reading from a file\n",
    "\n",
    "file.read()      -> read whole file\n",
    "file.read(n)     -> read n no. of bytes from file, and shift cursor\n",
    "file.readLine()  -> read current line\n",
    "file.readLines() -> read all the lines and return a list of lines\n",
    "\n",
    "----------------------------------------------------------------------\n",
    "_Writing in a file\n",
    "\n",
    "file.write('your data')\n",
    "\n",
    "----------------------------------------------------------------------\n",
    "_Properties in file handler\n",
    "\n",
    "file.name\n",
    "file.closed\n",
    "file.mode\n",
    "\n",
    "----------------------------------------------------------------------\n",
    "_Extra functions\n",
    "\n",
    "file.tell()     -> display the position of the pointer/cursor\n",
    "\n",
    "file.seek(offset(how much), reference(from where))     \n",
    "-> adjust cursor position"
   ]
  }
 ],
 "metadata": {
  "kernelspec": {
   "display_name": "Python 3",
   "language": "python",
   "name": "python3"
  },
  "language_info": {
   "codemirror_mode": {
    "name": "ipython",
    "version": 3
   },
   "file_extension": ".py",
   "mimetype": "text/x-python",
   "name": "python",
   "nbconvert_exporter": "python",
   "pygments_lexer": "ipython3",
   "version": "3.8.5"
  }
 },
 "nbformat": 4,
 "nbformat_minor": 5
}
