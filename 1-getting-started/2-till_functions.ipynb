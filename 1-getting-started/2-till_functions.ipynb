{
 "cells": [
  {
   "cell_type": "markdown",
   "metadata": {},
   "source": [
    "## Control Structures"
   ]
  },
  {
   "cell_type": "code",
   "execution_count": null,
   "metadata": {},
   "outputs": [],
   "source": [
    "# control the sequence of the program   \n",
    "# a. decision making   b. looping"
   ]
  },
  {
   "cell_type": "markdown",
   "metadata": {},
   "source": [
    "### Decision Making"
   ]
  },
  {
   "cell_type": "code",
   "execution_count": null,
   "metadata": {},
   "outputs": [],
   "source": [
    "# if elif else\n",
    "#important thing is colon(:) and indentation "
   ]
  },
  {
   "cell_type": "code",
   "execution_count": null,
   "metadata": {},
   "outputs": [],
   "source": [
    "a=10\n",
    "if a==10:\n",
    "    print('a is 10')\n",
    "elif a>10:\n",
    "    print('a greater than 10')\n",
    "else:\n",
    "    print('a less than 10')"
   ]
  },
  {
   "cell_type": "code",
   "execution_count": null,
   "metadata": {},
   "outputs": [],
   "source": [
    "# break continue pass\n",
    "# if you don't want to give any statement, \n",
    "#you can give 'pass' statement"
   ]
  },
  {
   "cell_type": "code",
   "execution_count": null,
   "metadata": {},
   "outputs": [],
   "source": [
    "if a==10:\n",
    "    pass\n",
    "else:\n",
    "    print('a is not 10')"
   ]
  },
  {
   "cell_type": "code",
   "execution_count": null,
   "metadata": {},
   "outputs": [],
   "source": [
    "b=10\n",
    "if a is b:\n",
    "    print('a and b are pointing to same object in heap')\n",
    "    print('becasue of integer pool that python creates')\n",
    "else:\n",
    "    print('a and b points to different objects')"
   ]
  },
  {
   "cell_type": "markdown",
   "metadata": {},
   "source": [
    "### Looping"
   ]
  },
  {
   "cell_type": "code",
   "execution_count": null,
   "metadata": {},
   "outputs": [],
   "source": [
    "for i in range(10):              #for domain of methods\n",
    "    print(i)"
   ]
  },
  {
   "cell_type": "code",
   "execution_count": null,
   "metadata": {},
   "outputs": [],
   "source": [
    "li=[33,55,22,90,'hello',45,8.9]\n",
    "#enumerate uses the concept of tupling, \n",
    "#it returns a tuple and assign the value to the variables\n",
    "for index, val in enumerate(li):\n",
    "    print(f'value at {index} is {val}')"
   ]
  },
  {
   "cell_type": "code",
   "execution_count": null,
   "metadata": {},
   "outputs": [],
   "source": [
    "while a!=5:                     #generic loop\n",
    "    print(a)\n",
    "    a-=1"
   ]
  },
  {
   "cell_type": "markdown",
   "metadata": {},
   "source": [
    "## Functions"
   ]
  },
  {
   "cell_type": "markdown",
   "metadata": {},
   "source": [
    "Functions are block of code which are used to define a specific functionality that can be used multiple times across the program without re-writing the code again and again.\n",
    "\n",
    "Functions are first class citizens in python, which means whatever we can do with variables, we can also do it with functions. (which means assigning it to some other reference variable)\n",
    "\n",
    "Functions in python is an object placed in a heap, the function body\n",
    "get dumpped in that object and the reference to that object is \n",
    "assigned to the reference variable that is function name. (that's why no function overloading)\n",
    "\n",
    "_We can make multiple functions with same name, but what it does is,\n",
    "it just dereference and rereference to the new object._\n",
    "\n",
    "Type of functions:\n",
    "a. Built-in functions\n",
    "b. User defined functions\n",
    "c. Anonymous functions"
   ]
  },
  {
   "cell_type": "code",
   "execution_count": null,
   "metadata": {},
   "outputs": [],
   "source": [
    "# def functionname(parameters):\n",
    "#     statements\n",
    "\n",
    "def afun():\n",
    "    pass\n",
    "    #return 0\n",
    "\n",
    "#if there is no return statement in a function it will return (None)\n",
    "#afun()   -> this is how we call function"
   ]
  },
  {
   "cell_type": "code",
   "execution_count": null,
   "metadata": {},
   "outputs": [],
   "source": [
    "#a=fun\n",
    "#a()      -> can call afun as well"
   ]
  },
  {
   "cell_type": "code",
   "execution_count": null,
   "metadata": {},
   "outputs": [],
   "source": [
    "def add(*val):      #getting variable no of arguments (tuple)\n",
    "    sum=0\n",
    "    for num in val:\n",
    "        sum+=num\n",
    "    return sum\n",
    "\n",
    "res=add(1,2,3,4,5,6,7,7,9)"
   ]
  },
  {
   "cell_type": "code",
   "execution_count": null,
   "metadata": {},
   "outputs": [],
   "source": [
    "def simpleint(amnt, rate, time=1):   #default arguments\n",
    "    return (amnt*time*rate)*0.1\n",
    "\n",
    "res=simpleint(10000, 7)"
   ]
  },
  {
   "cell_type": "markdown",
   "metadata": {},
   "source": [
    "## Lambda Function"
   ]
  },
  {
   "cell_type": "markdown",
   "metadata": {},
   "source": [
    "* Reduce functional overhead\n",
    "* Noname\n",
    "* Frequently used with single line functions\n",
    "\n",
    "lambda signature : expression"
   ]
  },
  {
   "cell_type": "code",
   "execution_count": null,
   "metadata": {},
   "outputs": [],
   "source": [
    "addition = lambda a, b : a * b #or return a+b\n",
    "addition(30,10)"
   ]
  },
  {
   "cell_type": "markdown",
   "metadata": {},
   "source": [
    "## Map Function"
   ]
  },
  {
   "cell_type": "code",
   "execution_count": null,
   "metadata": {},
   "outputs": [],
   "source": [
    "# applies a given function to each element of iterable\n",
    "#map(funciton, iterable)"
   ]
  },
  {
   "cell_type": "code",
   "execution_count": null,
   "metadata": {},
   "outputs": [],
   "source": [
    "a=list(map(lambda a: a*2, [1,2,3,4]))"
   ]
  },
  {
   "cell_type": "markdown",
   "metadata": {},
   "source": [
    "## Filter function"
   ]
  },
  {
   "cell_type": "code",
   "execution_count": null,
   "metadata": {},
   "outputs": [],
   "source": [
    "#return true false, if return true then it will consider it"
   ]
  },
  {
   "cell_type": "code",
   "execution_count": null,
   "metadata": {},
   "outputs": [],
   "source": [
    "b=list(filter(lambda x:x%2==0, range(10)))"
   ]
  },
  {
   "cell_type": "markdown",
   "metadata": {},
   "source": [
    "### Everything in python is an object and all the object is inherited from 'object' class"
   ]
  },
  {
   "cell_type": "code",
   "execution_count": null,
   "metadata": {},
   "outputs": [],
   "source": [
    "isinstance(afun, object)      #returns True/False"
   ]
  }
 ],
 "metadata": {
  "kernelspec": {
   "display_name": "Python 3",
   "language": "python",
   "name": "python3"
  },
  "language_info": {
   "codemirror_mode": {
    "name": "ipython",
    "version": 3
   },
   "file_extension": ".py",
   "mimetype": "text/x-python",
   "name": "python",
   "nbconvert_exporter": "python",
   "pygments_lexer": "ipython3",
   "version": "3.8.5"
  }
 },
 "nbformat": 4,
 "nbformat_minor": 4
}
