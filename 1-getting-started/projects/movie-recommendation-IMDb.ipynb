{
 "cells": [
  {
   "cell_type": "markdown",
   "id": "amateur-drill",
   "metadata": {},
   "source": [
    "## Get top rated movie"
   ]
  },
  {
   "cell_type": "code",
   "execution_count": null,
   "id": "scenic-worth",
   "metadata": {},
   "outputs": [],
   "source": [
    "import requests\n",
    "import bs4"
   ]
  },
  {
   "cell_type": "code",
   "execution_count": null,
   "id": "satisfactory-illinois",
   "metadata": {},
   "outputs": [],
   "source": [
    "re=requests.get('https://www.imdb.com/chart/top/?ref_=nv_mv_250')"
   ]
  },
  {
   "cell_type": "code",
   "execution_count": null,
   "id": "hazardous-rebel",
   "metadata": {},
   "outputs": [],
   "source": [
    "soup=bs4.BeautifulSoup(re.text, 'lxml')"
   ]
  },
  {
   "cell_type": "code",
   "execution_count": null,
   "id": "transsexual-auction",
   "metadata": {},
   "outputs": [],
   "source": [
    "li=soup.findAll(class_='titleColumn')"
   ]
  },
  {
   "cell_type": "code",
   "execution_count": null,
   "id": "voluntary-cruise",
   "metadata": {},
   "outputs": [],
   "source": [
    "for name in li:\n",
    "    print(name.a.text)"
   ]
  }
 ],
 "metadata": {
  "kernelspec": {
   "display_name": "Python 3",
   "language": "python",
   "name": "python3"
  },
  "language_info": {
   "codemirror_mode": {
    "name": "ipython",
    "version": 3
   },
   "file_extension": ".py",
   "mimetype": "text/x-python",
   "name": "python",
   "nbconvert_exporter": "python",
   "pygments_lexer": "ipython3",
   "version": "3.8.5"
  }
 },
 "nbformat": 4,
 "nbformat_minor": 5
}
