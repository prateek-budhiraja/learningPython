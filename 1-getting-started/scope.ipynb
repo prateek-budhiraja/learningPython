{
 "cells": [
  {
   "cell_type": "markdown",
   "id": "japanese-thomas",
   "metadata": {},
   "source": [
    "# Understanding scoping"
   ]
  },
  {
   "cell_type": "markdown",
   "id": "careful-zambia",
   "metadata": {},
   "source": [
    "Defines availability of members with any defined memory block.\n",
    "\n",
    "Types:\n",
    "a. local\n",
    "b. global\n",
    "c. external\n",
    "\n",
    "Follows the rule: LEGB(local, enclosing, global, built-in)"
   ]
  },
  {
   "cell_type": "code",
   "execution_count": null,
   "id": "raising-recommendation",
   "metadata": {},
   "outputs": [],
   "source": [
    "a=20\n",
    "def funtoaccessglobal():\n",
    "    print(a)\n",
    "\n",
    "funtoaccessglobal()"
   ]
  },
  {
   "cell_type": "code",
   "execution_count": null,
   "id": "saved-luxembourg",
   "metadata": {},
   "outputs": [],
   "source": [
    "a=20\n",
    "def funtochangeglobal():\n",
    "    global a        #syntax specifying we are reffering to global 'a'\n",
    "    a+=10\n",
    "    print(a)\n",
    "\n",
    "funtochangeglobal()"
   ]
  },
  {
   "cell_type": "code",
   "execution_count": null,
   "id": "exotic-alert",
   "metadata": {},
   "outputs": [],
   "source": [
    "def func1():\n",
    "  x = 100\n",
    "  def func2():\n",
    "    nonlocal x      #for accessing the enclosing variable\n",
    "    x = 200\n",
    "  func2()\n",
    "  print(x)          #value changed in internal function\n",
    "\n",
    "func1()"
   ]
  }
 ],
 "metadata": {
  "kernelspec": {
   "display_name": "Python 3",
   "language": "python",
   "name": "python3"
  },
  "language_info": {
   "codemirror_mode": {
    "name": "ipython",
    "version": 3
   },
   "file_extension": ".py",
   "mimetype": "text/x-python",
   "name": "python",
   "nbconvert_exporter": "python",
   "pygments_lexer": "ipython3",
   "version": "3.8.5"
  }
 },
 "nbformat": 4,
 "nbformat_minor": 5
}
